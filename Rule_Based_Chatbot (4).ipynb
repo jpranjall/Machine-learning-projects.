{
  "nbformat": 4,
  "nbformat_minor": 0,
  "metadata": {
    "colab": {
      "provenance": []
    },
    "kernelspec": {
      "name": "python3",
      "display_name": "Python 3"
    },
    "language_info": {
      "name": "python"
    }
  },
  "cells": [
    {
      "cell_type": "code",
      "source": [
        "import re   #is bydefault string handling library that allows me to perform string operatins like seaRCHING ,SUBSETING LIST,string matching\n",
        "import random  # allows use to choose one of response it generate random no choose response present in list at randpom"
      ],
      "metadata": {
        "id": "DG0RwR6iGYA5"
      },
      "execution_count": null,
      "outputs": []
    },
    {
      "cell_type": "code",
      "source": [
        "#creating class\n",
        "class RuleBot:\n",
        "  ## potential negative responses = user can generally careful learn from from list of negative responses bot will provide user will pass any of negative respinse like=no,nope,nah,naw,not a chance,sorry\n",
        "  negative_responsesd=(\"no\",\"nope\",\"nah\",\"naw\",\"not a chance\",\"sorry\")\n",
        "  ## exit converastiin keywords\n",
        "  exit_commands=(\"quit\",\"pause\",\"exit\",\"goodbye\",\"bye\",\"later\")\n",
        "  #random starter question = user is continusly talking to the bot\n",
        "  random_questions=(\n",
        "      \"Why are you here?\",\n",
        "      \"Are there many humans like you?\",\n",
        "      \"What do you consume that sustenance?\",\n",
        "      \"Is there intelligent life on this planet?\",\n",
        "      \"Does Earth have a leader?\",\n",
        "      \"What planets have you visited?\"\n",
        "      \"What technology do you have on this planet?\"\n",
        "\n",
        "  )\n",
        "  def __init__(self):\n",
        "    self.alienbabble={'describe_planet_intent':r'.*\\s*your planet.*',\n",
        "                            'answer_why_intent':r'why\\sare.*',\n",
        "                            'about_intellipat':r'.*\\s*intellipaat',\n",
        "                            'about_session':r'.*\\s*session'\n",
        "                             }\n",
        "  def greet(self):\n",
        "        self.name=input(\"What is your name?\\n\")\n",
        "        will_help=input(\n",
        "             f\"Hi {self.name},I am Rule-Bot. will you help me learn about your planet?\\n\")\n",
        "        if will_help in self.negative_responsesd:\n",
        "            print(\"OK,have a nice Earth day!\")\n",
        "        self.chat()\n",
        "\n",
        "  def make_exit(self,reply):\n",
        "        for command in self.exit_commands:\n",
        "            if reply == command:\n",
        "                print(\"Okay,have a nice Earth day!\")\n",
        "                return True\n",
        "  def chat(self):\n",
        "        reply=input(random.choice(self.random_questions)).lower()\n",
        "        while not self.make_exit(reply):\n",
        "             reply=input(self.match_reply(reply))\n",
        "\n",
        "  def match_reply(self,reply):\n",
        "        for key,value in self.alienbabble.items():\n",
        "            intent=key\n",
        "            regex_pattern=value\n",
        "            found_match=re.match(regex_pattern,reply)\n",
        "            if found_match and intent == 'describe_planet_intent':\n",
        "                return self.describe_planet_intent()\n",
        "            elif found_match and intent == 'answer_why_intent':\n",
        "                return self.answer_why_intent()\n",
        "            elif found_match and intent == 'about_intellipat':\n",
        "                return self.about_intellipat()\n",
        "            elif found_match and intent == 'about_session':\n",
        "                return self.about_session()\n",
        "        if not found_match:\n",
        "            return self.no_match_intent()\n",
        "\n",
        "  def describe_planet_intent(self):\n",
        "      responses=(\"My planet is a utopia of diverse organisms and species.\\n\",\n",
        "               \"I am from Opidipus,the capital of the Wayward Galaxies.\\n\")\n",
        "      return random.choice(responses)\n",
        "\n",
        "  def answer_why_intent(self):\n",
        "      resonses=(\"I come in peace\\n\",\"I am here to collect data on your planet and its inhabitants\\n\",\n",
        "              \"I heard the coffee is good\\n\")\n",
        "      return random.chice(responses)\n",
        "\n",
        "  def about_intellipat(self):\n",
        "      responses=(\"Intellipaat is world's largest professional educational company\\n\",\"Intellipaat will make you learn concepts in the way never less?\\n\",\n",
        "                  \"Intellipaat is where your career and skill grows\\n\")\n",
        "      return random.choice(responses)\n",
        "\n",
        "  def about_session(self):\n",
        "      responses=(\"Session is on 14th Aug 2022\\n\",\"Session was cool!!\")\n",
        "\n",
        "      return random.choice(responses)\n",
        "\n",
        "  def no_match_intent(self):\n",
        "      responses=(\n",
        "      \"Please tell me more.\\n\",\"Tell me more!\\n\",\"Why do you say that?\\n\",\"I see. Can you elaborate?\\n\",\n",
        "      \"Interesting.Can you tell me more?\\n\",\"I see.How do you think?\\n\",\"Why?\\n\",\n",
        "      \"How do you think I feel when you say that?\\n\")\n",
        "      return random.choice(responses)\n",
        "\n",
        "AlienBot=RuleBot()\n",
        "AlienBot.greet()"
      ],
      "metadata": {
        "id": "hQB4kToTGsb5"
      },
      "execution_count": null,
      "outputs": []
    },
    {
      "cell_type": "code",
      "source": [],
      "metadata": {
        "id": "zS4LeWv1XCya"
      },
      "execution_count": null,
      "outputs": []
    }
  ]
}